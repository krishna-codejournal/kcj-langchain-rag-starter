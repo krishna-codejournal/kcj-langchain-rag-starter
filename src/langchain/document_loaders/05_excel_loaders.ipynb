{
 "cells": [
  {
   "cell_type": "markdown",
   "id": "415a0b0e",
   "metadata": {},
   "source": [
    "# Excel Processing Techniques in LangChain\n",
    "\n",
    "LangChain supports flexible strategies for loading and processing Excel files, enabling workflows that leverage multiple sheets, rich metadata, and custom document creation.\n",
    "\n",
    "---\n",
    "\n",
    "## 1. UnstructuredExcelLoader\n",
    "\n",
    "- **Approach:**  \n",
    "    Loads entire Excel files, including multiple sheets, as unstructured documents.\n",
    "- **Implementation:**  \n",
    "    Uses `UnstructuredExcelLoader` to read `.xlsx` files and create document objects for each sheet.\n",
    "- **Advantages:**  \n",
    "    - Handles multiple sheets automatically.\n",
    "    - Preserves sheet names and structure in metadata.\n",
    "    - Useful for exploratory analysis and multi-sheet reporting.\n",
    "- **Limitations:**  \n",
    "    - Less control over individual cell or row formatting.\n",
    "    - May require post-processing for granular data extraction.\n",
    "\n",
    "**Example:**\n",
    "```python\n",
    "from langchain.document_loaders.excel import UnstructuredExcelLoader\n",
    "\n",
    "loader = UnstructuredExcelLoader(\"data/excel_files/Products.xlsx\")\n",
    "documents = loader.load()\n",
    "```\n",
    "\n",
    "---\n",
    "\n",
    "## 2. Custom Excel Loader\n",
    "\n",
    "- **Approach:**  \n",
    "    Use pandas to read Excel files, process sheets and rows, and create tailored document objects.\n",
    "- **Implementation:**  \n",
    "    Read each sheet with pandas, iterate over rows, and construct `Document` objects with custom content and metadata.\n",
    "- **Advantages:**  \n",
    "    - Full control over which sheets and rows to process.\n",
    "    - Can combine data from multiple sheets.\n",
    "    - Enables advanced filtering, summaries, and metadata enrichment.\n",
    "- **Limitations:**  \n",
    "    - Requires more code and maintenance.\n",
    "    - Slightly slower for large files.\n",
    "\n",
    "**Example:**\n",
    "```python\n",
    "import pandas as pd\n",
    "from langchain_core.documents import Document\n",
    "\n",
    "excel_file = \"data/excel_files/Products.xlsx\"\n",
    "xls = pd.ExcelFile(excel_file)\n",
    "documents = []\n",
    "for sheet_name in xls.sheet_names:\n",
    "    df = pd.read_excel(xls, sheet_name=sheet_name)\n",
    "    for idx, row in df.iterrows():\n",
    "        content = f\"Sheet: {sheet_name}\\nProduct: {row.get('ProductName', '')}\\nPrice: {row.get('Price', '')}\"\n",
    "        metadata = {\"sheet\": sheet_name, \"row_index\": idx, \"source\": excel_file}\n",
    "        documents.append(Document(page_content=content, metadata=metadata))\n",
    "```\n",
    "\n",
    "---\n",
    "\n",
    "## Summary Table\n",
    "\n",
    "| Technique                | Multi-Sheet Support | Customization | Metadata Richness | Use Case                  |\n",
    "|--------------------------|--------------------|---------------|-------------------|---------------------------|\n",
    "| UnstructuredExcelLoader  | ✅                 | Low           | Basic             | Quick multi-sheet loading |\n",
    "| Custom Loader (pandas)   | ✅                 | High          | Advanced          | Tailored document creation|\n",
    "\n",
    "Choose the technique that best fits your Excel data complexity and processing needs."
   ]
  },
  {
   "cell_type": "code",
   "execution_count": 5,
   "id": "fe063a78",
   "metadata": {},
   "outputs": [],
   "source": [
    "from langchain_core.documents import Document\n",
    "from typing import List"
   ]
  },
  {
   "cell_type": "code",
   "execution_count": 1,
   "id": "2667d6fc",
   "metadata": {},
   "outputs": [],
   "source": [
    "# Save as Excel with multiple sheets\n",
    "# Create sample data for Products.csv provide some realtime product data\n",
    "import pandas as pd\n",
    "\n",
    "data = {\n",
    "    \"ProductID\": [1, 2, 3],\n",
    "    \"ProductName\": [\"Laptop\", \"Smartphone\", \"Tablet\"],\n",
    "    \"Price\": [999.99, 499.99, 299.99],\n",
    "    \"Stock\": [50, 200, 150],\n",
    "    \"Rating\": [4.5, 4.7, 4.3],\n",
    "    \"Description\": [\n",
    "        \"A high-performance laptop suitable for all your computing needs.\",\n",
    "        \"A sleek and powerful smartphone with cutting-edge features.\",\n",
    "        \"A lightweight tablet perfect for browsing and media consumption.\"\n",
    "    ]\n",
    "} \n",
    "\n",
    "df = pd.DataFrame(data) \n",
    "with pd.ExcelWriter(\"data/excel_files/Products.xlsx\") as writer:\n",
    "    df.to_excel(writer, sheet_name=\"Products\", index=False)\n",
    "    df[['ProductID', 'ProductName', 'Price']].to_excel(writer, sheet_name=\"Summary\", index=False)\n",
    "    df[['ProductID', 'Stock', 'Rating']].to_excel(writer, sheet_name=\"Inventory\", index=False)"
   ]
  },
  {
   "cell_type": "code",
   "execution_count": 6,
   "id": "1e5b86aa",
   "metadata": {},
   "outputs": [],
   "source": [
    "\n",
    "# Custom excel loader for multiple sheets\n",
    "def custom_excel_loader(filepath: str) -> List[Document]:\n",
    "\n",
    "    # Read the Excel file with all sheets\n",
    "    xls = pd.ExcelFile(filepath)\n",
    "    documents = []\n",
    "    for sheet_name in xls.sheet_names:\n",
    "        df = pd.read_excel(xls, sheet_name=sheet_name)\n",
    "        # create a document for each sheet\n",
    "        sheet_content = f\"Sheet: {sheet_name}\\n\"\n",
    "        sheet_content += f\"Columns: {', '.join(df.columns)}\\n\"\n",
    "        sheet_content += f\"Rows: {len(df)}\\n\"\n",
    "        sheet_content += df.to_string(index=False)\n",
    "\n",
    "        document = Document(\n",
    "            page_content=sheet_content,\n",
    "            metadata={\n",
    "                \"source\": filepath,\n",
    "                \"sheet_name\": sheet_name,\n",
    "                \"num_rows\": len(df),\n",
    "                \"num_columns\": len(df.columns),\n",
    "                \"data_type\": \"excel_sheet\"\n",
    "            }\n",
    "        )\n",
    "        documents.append(document)\n",
    "    return documents"
   ]
  },
  {
   "cell_type": "code",
   "execution_count": null,
   "id": "51c6c523",
   "metadata": {},
   "outputs": [
    {
     "name": "stdout",
     "output_type": "stream",
     "text": [
      "Loaded 3 documents using custom_excel_loader.\n"
     ]
    },
    {
     "data": {
      "text/plain": [
       "[Document(metadata={'source': 'data/excel_files/Products.xlsx', 'sheet_name': 'Products', 'num_rows': 3, 'num_columns': 6, 'data_type': 'excel_sheet'}, page_content='Sheet: Products\\nColumns: ProductID, ProductName, Price, Stock, Rating, Description\\nRows: 3\\n ProductID ProductName  Price  Stock  Rating                                                      Description\\n         1      Laptop 999.99     50     4.5 A high-performance laptop suitable for all your computing needs.\\n         2  Smartphone 499.99    200     4.7      A sleek and powerful smartphone with cutting-edge features.\\n         3      Tablet 299.99    150     4.3 A lightweight tablet perfect for browsing and media consumption.'),\n",
       " Document(metadata={'source': 'data/excel_files/Products.xlsx', 'sheet_name': 'Summary', 'num_rows': 3, 'num_columns': 3, 'data_type': 'excel_sheet'}, page_content='Sheet: Summary\\nColumns: ProductID, ProductName, Price\\nRows: 3\\n ProductID ProductName  Price\\n         1      Laptop 999.99\\n         2  Smartphone 499.99\\n         3      Tablet 299.99'),\n",
       " Document(metadata={'source': 'data/excel_files/Products.xlsx', 'sheet_name': 'Inventory', 'num_rows': 3, 'num_columns': 3, 'data_type': 'excel_sheet'}, page_content='Sheet: Inventory\\nColumns: ProductID, Stock, Rating\\nRows: 3\\n ProductID  Stock  Rating\\n         1     50     4.5\\n         2    200     4.7\\n         3    150     4.3')]"
      ]
     },
     "execution_count": 27,
     "metadata": {},
     "output_type": "execute_result"
    }
   ],
   "source": [
    "excel_documents = custom_excel_loader(\"data/excel_files/Products.xlsx\")\n",
    "print(f\"Loaded {len(excel_documents)} documents using custom_excel_loader.\")\n",
    "excel_documents"
   ]
  },
  {
   "cell_type": "code",
   "execution_count": null,
   "id": "b395a38b",
   "metadata": {},
   "outputs": [
    {
     "name": "stdout",
     "output_type": "stream",
     "text": [
      "Error loading Excel file: No module named 'msoffcrypto'\n"
     ]
    }
   ],
   "source": [
    "from langchain_community.document_loaders import UnstructuredExcelLoader\n",
    "\n",
    "try:\n",
    "    excel_loader = UnstructuredExcelLoader(file_path=\"data/excel_files/Products.xlsx\", \n",
    "                                           # sheet_name=\"Products\"\n",
    "                                           mode =\"elements\"\n",
    "                                           )\n",
    "    excel_documents = excel_loader.load()\n",
    "    print(f\"Loaded {len(excel_documents)} documents using UnstructuredExcelLoader.\")\n",
    "    excel_documents\n",
    "except Exception as e:\n",
    "    print(f\"Error loading Excel file: {e}\")\n"
   ]
  }
 ],
 "metadata": {
  "kernelspec": {
   "display_name": "global_venv",
   "language": "python",
   "name": "python3"
  },
  "language_info": {
   "codemirror_mode": {
    "name": "ipython",
    "version": 3
   },
   "file_extension": ".py",
   "mimetype": "text/x-python",
   "name": "python",
   "nbconvert_exporter": "python",
   "pygments_lexer": "ipython3",
   "version": "3.12.3"
  }
 },
 "nbformat": 4,
 "nbformat_minor": 5
}
